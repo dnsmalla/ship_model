{
 "cells": [
  {
   "cell_type": "code",
   "execution_count": 68,
   "metadata": {},
   "outputs": [
    {
     "name": "stdout",
     "output_type": "stream",
     "text": [
      "charge_data 10.213082444805725 discharge_data 9.309377819028825 demand 9.684072528609445 grid 8.571524303762795\n",
      "in discharging\n",
      "3 -1\n",
      "[0.13426565 0.44549536]\n"
     ]
    },
    {
     "data": {
      "text/plain": [
       "array([0., 0., 1., 1., 1., 1., 1., 1., 1., 1., 1., 1., 1., 1., 1., 1., 1.,\n",
       "       1., 1., 1.])"
      ]
     },
     "execution_count": 68,
     "metadata": {},
     "output_type": "execute_result"
    }
   ],
   "source": [
    "import numpy as np\n",
    "import math\n",
    "\n",
    "def dynamic_prog(charge_data,discharge_data,demand,grid):\n",
    "    \n",
    "    if sum(charge_data)+sum(demand)<grid:\n",
    "        return np.ones(len(charge_data))\n",
    "    \n",
    "    elif grid+sum(discharge_data)<sum(demand):\n",
    "        return \"discharging and gird total does not fulfill demand\"\n",
    "    \n",
    "    elif sum(demand)<grid:\n",
    "        action=np.ones(len(demand))\n",
    "        print(\"in charging\")\n",
    "        avg_charge=np.mean(charge_data)\n",
    "        over_grid=grid-sum(demand)\n",
    "        n=math.ceil(over_grid/avg_charge)\n",
    "        for i in range(3,-1,-1):\n",
    "            print(n,i)\n",
    "            print(demand[:n+i])\n",
    "            if (sum(charge_data[:n+i])+sum(demand))<grid:\n",
    "                print(\"inner\",n,i)\n",
    "                break  \n",
    "        action[:n+i]=0\n",
    "        return action\n",
    "    \n",
    "    elif sum(demand)>grid:\n",
    "        action=np.zeros(len(demand))\n",
    "        print(\"in discharging\")\n",
    "        avg_discharge=np.mean(discharge_data)\n",
    "        unfulfill_demand=sum(demand)-grid\n",
    "        n=math.ceil(unfulfill_demand/avg_discharge)\n",
    "        for i in range(-1,3):\n",
    "            print(n,i)\n",
    "            print(demand[:n+i])\n",
    "            if sum(demand[:n+i])<(grid+sum(discharge_data[:n+i])):\n",
    "                break        \n",
    "        action[:n+i]=0\n",
    "        return action\n",
    "    \n",
    "    else:\n",
    "        return \"knapsack\"\n",
    "    \n",
    "\n",
    "charge_data=np.random.random(20)\n",
    "discharge_data=np.random.random(20)\n",
    "grid=np.random.random()*10\n",
    "demand=np.random.random(20)\n",
    "print(\"charge_data\",sum(charge_data),\"discharge_data\",sum(discharge_data),\"demand\",sum(demand),\"grid\",grid)\n",
    "\n",
    "dynamic_prog(charge_data,discharge_data,demand,grid)    "
   ]
  },
  {
   "cell_type": "code",
   "execution_count": 2,
   "metadata": {},
   "outputs": [
    {
     "name": "stdout",
     "output_type": "stream",
     "text": [
      "12\n"
     ]
    }
   ],
   "source": [
    "data=[1,2,3,4,5]\n",
    "print(sum(data[-3:]))"
   ]
  },
  {
   "cell_type": "code",
   "execution_count": null,
   "metadata": {},
   "outputs": [],
   "source": []
  }
 ],
 "metadata": {
  "kernelspec": {
   "display_name": "Python 3",
   "language": "python",
   "name": "python3"
  },
  "language_info": {
   "codemirror_mode": {
    "name": "ipython",
    "version": 3
   },
   "file_extension": ".py",
   "mimetype": "text/x-python",
   "name": "python",
   "nbconvert_exporter": "python",
   "pygments_lexer": "ipython3",
   "version": "3.7.3"
  }
 },
 "nbformat": 4,
 "nbformat_minor": 2
}
