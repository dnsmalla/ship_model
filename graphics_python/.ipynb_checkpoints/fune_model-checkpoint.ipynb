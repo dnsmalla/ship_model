{
 "cells": [
  {
   "cell_type": "code",
   "execution_count": null,
   "metadata": {},
   "outputs": [],
   "source": [
    "import turtle\n",
    "import math\n",
    "import random\n",
    "wn= turtle.Screen()\n",
    "wn.bgcolor(\"lightgreen\")\n",
    "turtle.register_shape(\"ship1.gif\")\n",
    "turtle.register_shape(\"ship2.gif\")\n",
    "turtle.register_shape(\"city1.gif\")\n",
    "turtle.register_shape(\"city2.gif\")\n",
    "turtle.register_shape(\"city3.gif\")\n",
    "turtle.register_shape(\"oil_co.gif\")\n",
    "# draw border\n",
    "mypen=turtle.Turtle()\n",
    "mypen.penup()\n",
    "mypen.setposition(-300,-300)\n",
    "mypen.pendown()\n",
    "mypen.pensize(3)\n",
    "for side in range(4):\n",
    "    mypen.forward(600)\n",
    "    mypen.left(90)\n",
    "mypen.hideturtle()\n",
    "#creat player turtle\n",
    "player1=turtle.Turtle()\n",
    "player1.color(\"blue\")\n",
    "player1.shape(\"ship1.gif\")\n",
    "player1.setposition(10,10)\n",
    "player1.penup()\n",
    "player1.speed(0)\n",
    "player2=turtle.Turtle()\n",
    "player2.color(\"blue\")\n",
    "player2.shape(\"ship2.gif\")\n",
    "player1.setposition(-20,20)\n",
    "player2.penup()\n",
    "player2.speed(0)\n",
    "players=[player1,player2]\n",
    "#oil_ factory\n",
    "oil_co=turtle.Turtle()\n",
    "oil_co.shape(\"oil_co.gif\")\n",
    "oil_co.penup()\n",
    "oil_co.setposition(0,0)\n",
    "\n",
    "#creat city\n",
    "city1=turtle.Turtle()\n",
    "city1.shape(\"city1.gif\")\n",
    "city1.penup()\n",
    "city1.setposition(random.randint(-300,300), random.randint(-300,300))\n",
    "city2=turtle.Turtle()\n",
    "city2.shape(\"city2.gif\")\n",
    "city2.penup()\n",
    "city2.setposition(random.randint(-300,300), random.randint(-300,300))\n",
    "city3=turtle.Turtle()\n",
    "city3.shape(\"city3.gif\")\n",
    "city3.penup()\n",
    "city3.setposition(random.randint(-300,300), random.randint(-300,300))\n",
    "cities=[city1,city2,city3]\n",
    "def iscollision(t1,t2):\n",
    "    d=math.sqrt(math.pow(t1.xcor()-t2.xcor(),2)+math.pow(t1.ycor()-t2.ycor(),2))\n",
    "    if d<20:\n",
    "        return True\n",
    "    else:\n",
    "        return False\n",
    "#set speed variable\n",
    "speed=1\n",
    "def turnleft():\n",
    "    player.left(30)\n",
    "def turnright():\n",
    "    player.right(30)\n",
    "def increasespeed():\n",
    "    global speed\n",
    "    speed+=1\n",
    "#set keywork bindings\n",
    "\n",
    "turtle.listen()\n",
    "turtle.onkey(turnleft,\"Left\")\n",
    "turtle.onkey(turnright,\"Right\")\n",
    "turtle.onkey(increasespeed,\"Up\")\n",
    "while True:\n",
    "    for plyer in players:\n",
    "        player.forward(speed)\n",
    "        #boundry checking\n",
    "        if player.xcor()>300 or player.xcor()<-300:\n",
    "            player.right(180)\n",
    "\n",
    "        if player.ycor()>300 or player.ycor()<-300:\n",
    "            player.right(180)\n",
    "        for city in cities: \n",
    "            if iscollision(player,city):\n",
    "                city.setposition(random.randint(-300,300), random.randint(-300,300))"
   ]
  },
  {
   "cell_type": "code",
   "execution_count": null,
   "metadata": {
    "collapsed": true
   },
   "outputs": [],
   "source": []
  },
  {
   "cell_type": "code",
   "execution_count": null,
   "metadata": {
    "collapsed": true
   },
   "outputs": [],
   "source": []
  },
  {
   "cell_type": "code",
   "execution_count": null,
   "metadata": {
    "collapsed": true
   },
   "outputs": [],
   "source": []
  }
 ],
 "metadata": {
  "kernelspec": {
   "display_name": "Python 3",
   "language": "python",
   "name": "python3"
  },
  "language_info": {
   "codemirror_mode": {
    "name": "ipython",
    "version": 3
   },
   "file_extension": ".py",
   "mimetype": "text/x-python",
   "name": "python",
   "nbconvert_exporter": "python",
   "pygments_lexer": "ipython3",
   "version": "3.6.8"
  }
 },
 "nbformat": 4,
 "nbformat_minor": 2
}
